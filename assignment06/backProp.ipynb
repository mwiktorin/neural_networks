{
 "cells": [
  {
   "cell_type": "code",
   "execution_count": 25,
   "metadata": {
    "collapsed": true
   },
   "outputs": [],
   "source": [
    "import numpy as np\n",
    "import sympy as sp\n",
    "import matplotlib.pyplot as plt\n",
    "from sympy.plotting import plot"
   ]
  },
  {
   "cell_type": "code",
   "execution_count": 225,
   "metadata": {},
   "outputs": [],
   "source": [
    "alpha=10\n",
    "\n",
    "def sigmoidFunction(x):\n",
    "    return 1/(1+np.exp(-alpha*x))\n",
    "\n",
    "def derivationSigmoidFunction(x):\n",
    "    return alpha*sp.exp(-alpha*x)/(1 + sp.exp(-alpha*x))**2\n",
    "\n",
    "\n",
    "def setWeightMatrix(MLVector):\n",
    "    weightMatrix=np.zeros((np.max(MLVector)**2, np.shape(MLVector)[0]-1))\n",
    "    for i in range(np.shape(MLVector)[0]):\n",
    "        if(i+1<np.shape(MLVector)[0]):\n",
    "            b=0;\n",
    "            for j in range(MLVector.item(i)):\n",
    "                for z in range(MLVector.item(i+1)):\n",
    "                    a=initialWeight(1)\n",
    "                    weightMatrix[b,i]= a\n",
    "                    b=b+1\n",
    "    return weightMatrix\n",
    "\n",
    "\n",
    "def initialWeight(setting):\n",
    "    if(setting==1):\n",
    "        return np.random.randint(1,10)\n",
    "    return 0\n",
    "\n",
    "def getLocalField(MLVector, weightMatrix, inputX, outputY):\n",
    "    \n",
    "    if(MLVector.item(0)<np.shape(inputX)[0]):\n",
    "        print(\" input vector x to big vor NN\")\n",
    "        print(inputX)\n",
    "        return 0\n",
    "    if(MLVector.item(0)>np.shape(inputX)[0]):\n",
    "        print(\" input vector x to small vor NN\")\n",
    "        return 0\n",
    "    else:\n",
    "        \n",
    "        localField=np.zeros((np.max(MLVector), np.shape(MLVector)[0]-1))\n",
    "        \n",
    "        for i in range(MLVector.item(0)):\n",
    "            outputY[i,0]=inputX.item(i)\n",
    "       \n",
    "        \n",
    "        for i in range(1, np.shape(MLVector)[0]):\n",
    "            a=0;\n",
    "            for j in range(MLVector.item(i)):\n",
    "                for z in range(MLVector.item(i-1)):\n",
    "                    localField[z,i-1]= localField[z,i-1] + (outputY[j,i-1])* weightMatrix[a,i-1]\n",
    "                    a=a+1\n",
    "            for j in range(MLVector.item(i)):\n",
    "                outputY[j,i]=sigmoidFunction(localField[j,i-1]);\n",
    "        return localField\n",
    "    \n",
    "    \n",
    "def backProp( MLVector, localField, weightMatrix, outputY, desiredOutput, learningRate):\n",
    "    \n",
    "    delta=np.zeros((np.max(MLVector), np.shape(MLVector)[0]-1))\n",
    "    a=0;\n",
    "    for i in range(MLVector.item(np.shape(MLVector)[0]-1)):\n",
    "        for j in range(MLVector.item(np.shape(MLVector)[0]-2)):\n",
    "            y=outputY[i,np.shape(MLVector)[0]-2]\n",
    "            delta[i,np.shape(MLVector)[0]-2]=(alpha*y*(1-y))*(desiredOutput[i]-y)\n",
    "            weightMatrix[a,np.shape(MLVector)[0]-2]=weightMatrix[a,np.shape(MLVector)[0]-2]+ (learningRate*delta[i,np.shape(MLVector)[0]-2]*y)\n",
    "            a=a+1\n",
    "            #print( (learningRate*delta[i,np.shape(MLVector)[0]-2]*y))\n",
    "            \n",
    "    for i in reversed(range(np.shape(MLVector)[0]-2)):\n",
    "        \n",
    "        for j in range(MLVector.item(i)):\n",
    "            sumDelta=0\n",
    "            mulDeltaWeights=0;\n",
    "            a=j;\n",
    "            pos=j;\n",
    "            for y in range(MLVector.item(i+1)):\n",
    "                sumDelta=sumDelta+delta[y,i+1]\n",
    "                \n",
    "            for y in range(MLVector.item(i+1)):\n",
    "                mulDeltaWeights=mulDeltaWeights+ (sumDelta* weightMatrix[a,i])\n",
    "                a=a+MLVector.item(i)\n",
    "            delta[j,i]=(alpha*outputY[j,i+1]*(1-outputY[j,i+1]))*mulDeltaWeights\n",
    "              \n",
    "                  \n",
    "            for y in range(MLVector.item(i+1)):\n",
    "                weightMatrix[pos,i]=weightMatrix[pos,i]+ (learningRate*delta[j,i]*outputY[j,i])\n",
    "               # print( (learningRate*delta[j,i]*outputY[j,i+1]))\n",
    "                pos=pos+MLVector.item(i)\n",
    "               "
   ]
  },
  {
   "cell_type": "code",
   "execution_count": 234,
   "metadata": {
    "scrolled": false
   },
   "outputs": [
    {
     "name": "stdout",
     "output_type": "stream",
     "text": [
      "[[ 2.  4.]\n",
      " [ 7.  5.]\n",
      " [ 4.  0.]\n",
      " [ 7.  0.]]\n",
      "[[ 2.  4.]\n",
      " [ 7.  5.]\n",
      " [ 4.  0.]\n",
      " [ 7.  0.]]\n",
      "[[ 1.  1.  1.]\n",
      " [ 0.  1.  0.]]\n"
     ]
    }
   ],
   "source": [
    "MLVector=np.array([[2],[2],[1]])\n",
    "learningRate=0.9\n",
    "weightMatrix=setWeightMatrix(MLVector)\n",
    "\n",
    "\n",
    "print(weightMatrix)\n",
    "inputX= np.array([[1,1],[0,1],[1,0],[0,0]])\n",
    "desiredOutput= np.array([[0],[1],[1],[0]])\n",
    "\n",
    "error=np.zeros(( 10))\n",
    "\n",
    "for i in range(0,10):\n",
    "\n",
    "    y=np.random.randint(0,3)\n",
    "    outputY=np.zeros((np.max(MLVector), np.shape(MLVector)[0]))\n",
    "    localField = getLocalField(MLVector, weightMatrix, inputX[y], outputY)\n",
    "    backProp(MLVector, localField, weightMatrix,  outputY, desiredOutput[y], learningRate)\n",
    "    error[i]=(1/2) *(desiredOutput[y]-outputY[0,2])**2\n",
    "\n",
    "print(weightMatrix)    \n",
    "\n",
    "print(outputY)"
   ]
  },
  {
   "cell_type": "code",
   "execution_count": 235,
   "metadata": {},
   "outputs": [
    {
     "data": {
      "image/png": "[encoded data removed]",
      "text/plain": [
       "<matplotlib.figure.Figure at 0x7f211550dc50>"
      ]
     },
     "metadata": {},
     "output_type": "display_data"
    }
   ],
   "source": [
    "plt.plot(error)\n",
    "plt.show()\n"
   ]
  },
  {
   "cell_type": "code",
   "execution_count": null,
   "metadata": {},
   "outputs": [],
   "source": []
  },
  {
   "cell_type": "code",
   "execution_count": null,
   "metadata": {
    "collapsed": true
   },
   "outputs": [],
   "source": []
  }
 ],
 "metadata": {
  "kernelspec": {
   "display_name": "Python 3",
   "language": "python",
   "name": "python3"
  },
  "language_info": {
   "codemirror_mode": {
    "name": "ipython",
    "version": 3
   },
   "file_extension": ".py",
   "mimetype": "text/x-python",
   "name": "python",
   "nbconvert_exporter": "python",
   "pygments_lexer": "ipython3",
   "version": "3.6.2"
  }
 },
 "nbformat": 4,
 "nbformat_minor": 2
}

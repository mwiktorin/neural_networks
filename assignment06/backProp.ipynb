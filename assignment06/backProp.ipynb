{
 "cells": [
  {
   "cell_type": "code",
   "execution_count": 2,
   "metadata": {
    "collapsed": true
   },
   "outputs": [],
   "source": [
    "import numpy as np\n",
    "import sympy as sp\n",
    "import matplotlib.pyplot as plt\n",
    "from sympy.plotting import plot"
   ]
  },
  {
   "cell_type": "code",
   "execution_count": 85,
   "metadata": {
    "collapsed": true
   },
   "outputs": [],
   "source": [
    "alpha=1\n",
    "\n",
    "# high alpha makes derivative zero.. no weight update possible\n",
    "\n",
    "def sigmoidFunction(x):\n",
    "    return 1/(1+np.exp(-alpha*x))\n",
    "\n",
    "def sigmoidFunction2(x):\n",
    "    return  np.tanh((alpha*x)/2)\n",
    "\n",
    "def derivationSigmoidFunction(x):\n",
    "    return alpha*sp.exp(-alpha*x)/(1 + sp.exp(-alpha*x))**2\n",
    "\n",
    "def derivationSigmoidFunction2(x):\n",
    "    return -(alpha/2)*np.tanh((alpha/2)*x)**2 + (alpha/2)\n",
    "\n",
    "\n",
    "def setWeightMatrix(MLVector):\n",
    "    weightMatrix=np.zeros((np.max(MLVector)**2, np.shape(MLVector)[0]-1))\n",
    "    for i in range(np.shape(MLVector)[0]):\n",
    "        if(i+1<np.shape(MLVector)[0]):\n",
    "            b=0;\n",
    "            for j in range(MLVector.item(i)):\n",
    "                for z in range(MLVector.item(i+1)):\n",
    "                    a=initialWeight(1)\n",
    "                    weightMatrix[b,i]= a\n",
    "                    b=b+1\n",
    "    return weightMatrix\n",
    "\n",
    "\n",
    "def initialWeight(setting):\n",
    "    if(setting==1):\n",
    "        return np.random.randint(1,5)\n",
    "    return 0\n",
    "\n",
    "def getLocalField(MLVector, weightMatrix, inputX, outputY,bias):\n",
    "    \n",
    "    if(MLVector.item(0)<np.shape(inputX)[0]):\n",
    "        print(\" input vector x to big vor NN\")\n",
    "        print(inputX)\n",
    "        return 0\n",
    "    if(MLVector.item(0)>np.shape(inputX)[0]):\n",
    "        print(\" input vector x to small vor NN\")\n",
    "        return 0\n",
    "    else:\n",
    "        \n",
    "        localField=np.zeros((np.max(MLVector), np.shape(MLVector)[0]-1))\n",
    "        \n",
    "        for i in range(MLVector.item(0)):\n",
    "            outputY[i,0]=inputX.item(i)\n",
    "       \n",
    "        \n",
    "        for i in range(1, np.shape(MLVector)[0]):\n",
    "            a=0;\n",
    "            for j in range(MLVector.item(i-1)):\n",
    "                \n",
    "                for z in range(MLVector.item(i)):\n",
    "                    localField[z,i-1]= localField[z,i-1] + ((outputY[j,i-1])* weightMatrix[a,i-1])\n",
    "                    a=a+1\n",
    "                    \n",
    "            \n",
    "            for j in range(MLVector.item(i)):\n",
    "                localField[j,i-1]= localField[j,i-1] +bias[j,i-1]\n",
    "                outputY[j,i]=sigmoidFunction2(localField[j,i-1])\n",
    "        return localField\n",
    "    \n",
    "    \n",
    "def backProp( MLVector, localField, weightMatrix, outputY, desiredOutput, learningRate):\n",
    "    \n",
    "    delta=np.zeros((np.max(MLVector), np.shape(MLVector)[0]-1))\n",
    "    a=0;\n",
    "    for i in range(MLVector.item(np.shape(MLVector)[0]-1)):            \n",
    "\n",
    "        for j in range(MLVector.item(np.shape(MLVector)[0]-2)):\n",
    "            #print(\"i\",i)\n",
    "            y=outputY[i,np.shape(MLVector)[0]-1]\n",
    "            #print(\"output:\",y)\n",
    "            delta[j,np.shape(MLVector)[0]-2]=-((alpha/2)*(1-y**2))*(desiredOutput[i]-y)\n",
    "            #Wikipedia : y-d\n",
    "            #print(\"delta matrix :\")\n",
    "            #print(delta)\n",
    "            #print(\"j\",j)\n",
    "            #print(\"input in node j\",outputY[j,np.shape(MLVector)[0]-2])\n",
    "            #print(\"delta j\",delta[i,np.shape(MLVector)[0]-2])\n",
    "            #print(\"weight vor änderung\",weightMatrix[a,np.shape(MLVector)[0]-2])\n",
    "            weightMatrix[a,np.shape(MLVector)[0]-2]=weightMatrix[a,np.shape(MLVector)[0]-2]- (learningRate*delta[i,np.shape(MLVector)[0]-2]*outputY[j,np.shape(MLVector)[0]-2])\n",
    "            #print(\"weight nach änderung\",weightMatrix[a,np.shape(MLVector)[0]-2])\n",
    "            a=a+1\n",
    "            \n",
    "    for i in reversed(range(np.shape(MLVector)[0]-2)):\n",
    "        a=0\n",
    "        pos=0\n",
    "        for j in range(MLVector.item(i)):\n",
    "            mulDeltaWeights=0;\n",
    "           \n",
    "            for y in range(MLVector.item(i+1)):\n",
    "                #print(\"delta:\",delta[y,i+1])\n",
    "                mulDeltaWeights=mulDeltaWeights+ (delta[y,i+1]* weightMatrix[a,i])\n",
    "                a=a+1\n",
    "            delta[j,i]=-((alpha/2)*(1-outputY[j,i+1]**2))*mulDeltaWeights\n",
    "\n",
    "                \n",
    "            for y in range(MLVector.item(i+1)):\n",
    "                weightMatrix[pos,i]=weightMatrix[pos,i]- (learningRate*delta[j,i]*outputY[y,i])\n",
    "                #print(\"ÄNDERUNG hidden layer\",(learningRate*delta[j,i]*outputY[y,i]))\n",
    "                pos=pos+1\n",
    "               "
   ]
  },
  {
   "cell_type": "code",
   "execution_count": 87,
   "metadata": {
    "scrolled": true
   },
   "outputs": [
    {
     "name": "stdout",
     "output_type": "stream",
     "text": [
      "initial weight matrix:\n",
      "[[ 3.  3.]\n",
      " [ 4.  4.]\n",
      " [ 1.  0.]\n",
      " [ 1.  0.]]\n",
      " weight matrix after training 10000 times with learning rate 0.2:\n",
      "[[ -12.40643035    0.14212582]\n",
      " [ 119.64238063    0.71799163]\n",
      " [   0.94097724    0.        ]\n",
      " [   1.26507172    0.        ]]\n"
     ]
    },
    {
     "data": {
      "image/png": "[encoded data removed]",
      "text/plain": [
       "<matplotlib.figure.Figure at 0x7f17282479e8>"
      ]
     },
     "metadata": {},
     "output_type": "display_data"
    }
   ],
   "source": [
    "MLVector=np.array([[2],[2],[1]])\n",
    "learningRate=0.2\n",
    "weightMatrix=setWeightMatrix(MLVector)\n",
    "\n",
    "#weightMatrix=np.array([[ 1, 1],[ -1 , 0.9],[ -1 , 0.],[ 1 , 0.]])\n",
    "bias=np.array([[ -1, 0.1 ],[   -1  , 0 ],[   -1  , 0 ]])\n",
    "#bias=np.array([[ 0, 0 ,0,0,0],[  0, 0 ,0,0,0 ],[  0, 0 ,0,0,0 ]])\n",
    "\n",
    "print(\"initial weight matrix:\")\n",
    "print(weightMatrix)\n",
    "inputX= np.array([[-1,1],[1,-1],[-1,-1],[1,1]])\n",
    "desiredOutput= np.array([[1],[1],[-1],[-1]])\n",
    "\n",
    "error=np.zeros(( 10000))\n",
    "\n",
    "j=0\n",
    "for i in range(0,10000):\n",
    "\n",
    "    y=np.random.randint(0,4)\n",
    "    outputY=np.zeros((np.max(MLVector), np.shape(MLVector)[0]))\n",
    "    localField = getLocalField(MLVector, weightMatrix, inputX[y], outputY,bias)\n",
    "    #print(\"ITERATION\", i)\n",
    "    #print(\"outp: \")\n",
    "    #print(outputY)\n",
    "    #print(\"local Field: \")\n",
    "    #print(localField)\n",
    "    backProp(MLVector, localField, weightMatrix,  outputY, desiredOutput[y], learningRate)\n",
    "    #print(\"weightMatrix\")\n",
    "    #print(weightMatrix)\n",
    "    \n",
    "    for j in range(0,4):\n",
    "        outputY=np.zeros((np.max(MLVector), np.shape(MLVector)[0]))\n",
    "        localField = getLocalField(MLVector, weightMatrix, inputX[j], outputY,bias)\n",
    "        if(desiredOutput[j]!=outputY[0,2]):\n",
    "            error[i]= error[i]+1\n",
    "        \n",
    "        \n",
    "    error[i]= error[i]/4\n",
    "        \n",
    "\n",
    "print(\" weight matrix after training 10000 times with learning rate 0.2:\")\n",
    "print(weightMatrix)    \n",
    "\n",
    "plt.plot(error)\n",
    "plt.show()\n"
   ]
  },
  {
   "cell_type": "code",
   "execution_count": 80,
   "metadata": {},
   "outputs": [
    {
     "name": "stdout",
     "output_type": "stream",
     "text": [
      "initial weight matrix:\n",
      "[[ 1.  2.]\n",
      " [ 2.  4.]\n",
      " [ 1.  0.]\n",
      " [ 3.  0.]]\n",
      " weight matrix after training 10000 times with learning rate 0.:\n",
      "[[ 1.  2.]\n",
      " [ 2.  4.]\n",
      " [ 1.  0.]\n",
      " [ 3.  0.]]\n"
     ]
    },
    {
     "data": {
      "image/png": "[encoded data removed]",
      "text/plain": [
       "<matplotlib.figure.Figure at 0x7f17281f7be0>"
      ]
     },
     "metadata": {},
     "output_type": "display_data"
    }
   ],
   "source": [
    "\n",
    "learningRate=0.5\n",
    "weightMatrix=setWeightMatrix(MLVector)\n",
    "\n",
    "print(\"initial weight matrix:\")\n",
    "print(weightMatrix)\n",
    "\n",
    "error=np.zeros(( 100))\n",
    "\n",
    "j=0\n",
    "for i in range(0,10000):\n",
    "\n",
    "    y=np.random.randint(0,4)\n",
    "    outputY=np.zeros((np.max(MLVector), np.shape(MLVector)[0]))\n",
    "    localField = getLocalField(MLVector, weightMatrix, inputX[y], outputY,bias)\n",
    "   # print(\"outp: \",outputY)\n",
    "   # print(\"local Field: \", localField)\n",
    "    backProp(MLVector, localField, weightMatrix,  outputY, desiredOutput[y], learningRate)\n",
    "    if(np.mod(i,100)==0):\n",
    "        error[j]=(1/2) *(desiredOutput[y]-outputY[0,2])**2\n",
    "        j=j+1\n",
    "\n",
    "print(\" weight matrix after training 10000 times with learning rate 0.:\")\n",
    "print(weightMatrix)    \n",
    "\n",
    "plt.plot(error)\n",
    "plt.show()\n"
   ]
  },
  {
   "cell_type": "code",
   "execution_count": 244,
   "metadata": {},
   "outputs": [
    {
     "name": "stdout",
     "output_type": "stream",
     "text": [
      "initial weight matrix:\n",
      "[[ 2.  1.]\n",
      " [ 3.  2.]\n",
      " [ 2.  0.]\n",
      " [ 2.  0.]]\n",
      " weight matrix after training 10000 times with learning rate 0.9:\n",
      "[[ 3.0847784   7.19175192]\n",
      " [ 3.01924121  8.19175192]\n",
      " [ 3.0847784   0.        ]\n",
      " [ 2.01924121  0.        ]]\n"
     ]
    },
    {
     "data": {
      "image/png": "[encoded data removed]",
      "text/plain": [
       "<matplotlib.figure.Figure at 0x7f86340566d8>"
      ]
     },
     "metadata": {},
     "output_type": "display_data"
    }
   ],
   "source": [
    "\n",
    "learningRate=0.9\n",
    "weightMatrix=setWeightMatrix(MLVector)\n",
    "\n",
    "\n",
    "print(\"initial weight matrix:\")\n",
    "print(weightMatrix)\n",
    "\n",
    "\n",
    "error=np.zeros(( 100))\n",
    "\n",
    "j=0\n",
    "for i in range(0,10000):\n",
    "\n",
    "    y=np.random.randint(0,3)\n",
    "    outputY=np.zeros((np.max(MLVector), np.shape(MLVector)[0]))\n",
    "    localField = getLocalField(MLVector, weightMatrix, inputX[y], outputY,bias)\n",
    "   # print(\"outp: \",outputY)\n",
    "   # print(\"local Field: \", localField)\n",
    "    backProp(MLVector, localField, weightMatrix,  outputY, desiredOutput[y], learningRate)\n",
    "    if(np.mod(i,100)==0):\n",
    "        error[j]=(1/2) *(desiredOutput[y]-outputY[0,2])**2\n",
    "        j=j+1\n",
    "\n",
    "print(\" weight matrix after training 10000 times with learning rate 0.9:\")\n",
    "print(weightMatrix)    \n",
    "\n",
    "plt.plot(error)\n",
    "plt.show()\n"
   ]
  },
  {
   "cell_type": "code",
   "execution_count": 298,
   "metadata": {},
   "outputs": [
    {
     "data": {
      "text/plain": [
       "-1.0"
      ]
     },
     "execution_count": 298,
     "metadata": {},
     "output_type": "execute_result"
    }
   ],
   "source": [
    "sigmoidFunction2(-1)"
   ]
  },
  {
   "cell_type": "code",
   "execution_count": 287,
   "metadata": {},
   "outputs": [
    {
     "data": {
      "text/plain": [
       "-0.70710678118654757"
      ]
     },
     "execution_count": 287,
     "metadata": {},
     "output_type": "execute_result"
    }
   ],
   "source": [
    "-np.sqrt(2)/2"
   ]
  },
  {
   "cell_type": "code",
   "execution_count": 232,
   "metadata": {},
   "outputs": [
    {
     "data": {
      "text/plain": [
       "0.99778515785660893"
      ]
     },
     "execution_count": 232,
     "metadata": {},
     "output_type": "execute_result"
    }
   ],
   "source": []
  },
  {
   "cell_type": "code",
   "execution_count": 28,
   "metadata": {},
   "outputs": [
    {
     "data": {
      "text/plain": [
       "-tanh(x/2)**2/2 + 1/2"
      ]
     },
     "execution_count": 28,
     "metadata": {},
     "output_type": "execute_result"
    }
   ],
   "source": [
    "x=sp.symbols(\"x\")\n",
    "h= sp.tanh((alpha*x)/2)\n",
    "\n",
    "a=sp.diff(h)\n",
    "b=(alpha/2)*(1-(sp.tanh((alpha*x)/2))**2)\n",
    "x=-1\n",
    "\n",
    "a"
   ]
  },
  {
   "cell_type": "code",
   "execution_count": 29,
   "metadata": {
    "scrolled": true
   },
   "outputs": [
    {
     "data": {
      "image/png": "[encoded data removed]",
      "text/plain": [
       "<matplotlib.figure.Figure at 0x7f17284b1c50>"
      ]
     },
     "metadata": {},
     "output_type": "display_data"
    },
    {
     "data": {
      "text/plain": [
       "<sympy.plotting.plot.Plot at 0x7f17284b1358>"
      ]
     },
     "execution_count": 29,
     "metadata": {},
     "output_type": "execute_result"
    }
   ],
   "source": [
    "plot(a)"
   ]
  },
  {
   "cell_type": "code",
   "execution_count": 30,
   "metadata": {},
   "outputs": [
    {
     "data": {
      "text/plain": [
       "0.3932238664829637"
      ]
     },
     "execution_count": 30,
     "metadata": {},
     "output_type": "execute_result"
    }
   ],
   "source": [
    "derivationSigmoidFunction2(-1)"
   ]
  },
  {
   "cell_type": "code",
   "execution_count": 31,
   "metadata": {},
   "outputs": [
    {
     "data": {
      "image/png": "[encoded data removed]",
      "text/plain": [
       "<matplotlib.figure.Figure at 0x7f1728413d68>"
      ]
     },
     "metadata": {},
     "output_type": "display_data"
    },
    {
     "data": {
      "text/plain": [
       "<sympy.plotting.plot.Plot at 0x7f1728d52518>"
      ]
     },
     "execution_count": 31,
     "metadata": {},
     "output_type": "execute_result"
    }
   ],
   "source": [
    "plot(h)"
   ]
  },
  {
   "cell_type": "code",
   "execution_count": null,
   "metadata": {
    "collapsed": true
   },
   "outputs": [],
   "source": []
  }
 ],
 "metadata": {
  "kernelspec": {
   "display_name": "Python 3",
   "language": "python",
   "name": "python3"
  },
  "language_info": {
   "codemirror_mode": {
    "name": "ipython",
    "version": 3
   },
   "file_extension": ".py",
   "mimetype": "text/x-python",
   "name": "python",
   "nbconvert_exporter": "python",
   "pygments_lexer": "ipython3",
   "version": "3.6.2"
  }
 },
 "nbformat": 4,
 "nbformat_minor": 2
}

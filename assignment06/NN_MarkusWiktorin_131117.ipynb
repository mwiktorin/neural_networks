{
 "cells": [
  {
   "cell_type": "markdown",
   "metadata": {},
   "source": [
    "# Assignment 6\n",
    "Linda Koine, Jens Weimann, Markus Wiktorin"
   ]
  },
  {
   "cell_type": "markdown",
   "metadata": {},
   "source": [
    "## 1"
   ]
  },
  {
   "cell_type": "markdown",
   "metadata": {},
   "source": [
    "## 2"
   ]
  },
  {
   "cell_type": "markdown",
   "metadata": {},
   "source": [
    "## 3"
   ]
  },
  {
   "cell_type": "code",
   "execution_count": 127,
   "metadata": {
    "collapsed": false
   },
   "outputs": [],
   "source": [
    "import neurolab as nl\n",
    "import numpy as np\n",
    "import matplotlib.pyplot as plt\n",
    "%matplotlib inline"
   ]
  },
  {
   "cell_type": "code",
   "execution_count": 4,
   "metadata": {
    "collapsed": true
   },
   "outputs": [],
   "source": [
    "def func1(x):\n",
    "    return 1/x\n",
    "\n",
    "def func2(x):\n",
    "    return np.log10(x)\n",
    "\n",
    "def func3(x):\n",
    "    return np.exp(-x)\n",
    "\n",
    "def func4(x):\n",
    "    return np.sin(x)"
   ]
  },
  {
   "cell_type": "code",
   "execution_count": 172,
   "metadata": {
    "collapsed": false
   },
   "outputs": [],
   "source": [
    "class mapping:\n",
    "    def __init__(self, function, range_, str_):\n",
    "        self.function = function\n",
    "        self.range_ = range_\n",
    "        self.str = str_\n",
    "        \n",
    "    def generate_set(self, size):\n",
    "        result = []\n",
    "        for i in range(size):\n",
    "            x = np.random.random() * (self.range_[1] - self.range_[0]) + self.range_[0]\n",
    "            result.append(np.array([x, self.function(x)]))\n",
    "        return np.array((result))"
   ]
  },
  {
   "cell_type": "code",
   "execution_count": 114,
   "metadata": {
    "collapsed": true
   },
   "outputs": [],
   "source": [
    "def get_error(net, test_set):\n",
    "    error = 0\n",
    "    for test in test_set:\n",
    "        error = error + abs(test[1] - net.sim(np.array([[test[0]]])))[0][0]\n",
    "    return error / np.size(test_set, 0)"
   ]
  },
  {
   "cell_type": "code",
   "execution_count": null,
   "metadata": {
    "collapsed": false
   },
   "outputs": [],
   "source": [
    "training_size = 100\n",
    "test_size = 20\n",
    "hidden_neurons = [1, 2, 3, 4, 5, 10, 20, 50]\n",
    "\n",
    "mappings = []\n",
    "mappings.append(mapping(func1, [1,100], \"1/x\"))\n",
    "mappings.append(mapping(func2, [1,10], \"log_10(x)\"))\n",
    "mappings.append(mapping(func3, [1,10], \"exp(-x)\"))\n",
    "mappings.append(mapping(func4, [1, np.pi / 2], \"sin(x)\"))\n",
    "\n",
    "for m in mappings:\n",
    "    training_set = m.generate_set(training_size)\n",
    "    test_set = m.generate_set(test_size)\n",
    "    input = training_set[:,0].reshape(training_size, 1)\n",
    "    target = training_set[:,1].reshape(training_size, 1)\n",
    "    \n",
    "    errors = np.zeros((len(hidden_neurons), 1))\n",
    "    \n",
    "    hn_idx = 0\n",
    "    for num_hidden_neurons in hidden_neurons:\n",
    "        net = nl.net.newff([m.range_], [num_hidden_neurons,1])\n",
    "        net.train(input, target, epochs=training_size, show=0)\n",
    "        errors[hn_idx] = get_error(net, test_set)\n",
    "        hn_idx = hn_idx + 1\n",
    "    \n",
    "    _ = plt.plot(errors)\n",
    "    \n",
    "_ = plt.legend([m.str for m in mappings], loc=1)\n",
    "_ = plt.xticks(range(len(hidden_neurons)), hidden_neurons)\n",
    "_ = plt.xlabel(\"Number of hidden neurons\")\n",
    "_ = plt.ylabel(\"Error\")"
   ]
  },
  {
   "cell_type": "code",
   "execution_count": null,
   "metadata": {
    "collapsed": true
   },
   "outputs": [],
   "source": []
  }
 ],
 "metadata": {
  "kernelspec": {
   "display_name": "Python [Root]",
   "language": "python",
   "name": "Python [Root]"
  },
  "language_info": {
   "codemirror_mode": {
    "name": "ipython",
    "version": 3
   },
   "file_extension": ".py",
   "mimetype": "text/x-python",
   "name": "python",
   "nbconvert_exporter": "python",
   "pygments_lexer": "ipython3",
   "version": "3.5.2"
  }
 },
 "nbformat": 4,
 "nbformat_minor": 2
}

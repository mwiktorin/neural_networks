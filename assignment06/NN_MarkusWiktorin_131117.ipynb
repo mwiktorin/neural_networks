{
 "cells": [
  {
   "cell_type": "markdown",
   "metadata": {},
   "source": [
    "# Assignment 6\n",
    "Linda Koine, Jens Weimann, Markus Wiktorin"
   ]
  },
  {
   "cell_type": "markdown",
   "metadata": {},
   "source": [
    "## 1"
   ]
  },
  {
   "cell_type": "markdown",
   "metadata": {},
   "source": [
    "## 2"
   ]
  },
  {
   "cell_type": "code",
   "execution_count": 9,
   "metadata": {
    "collapsed": true
   },
   "outputs": [],
   "source": [
    "import numpy as np\n",
    "import sympy as sp\n",
    "import matplotlib.pyplot as plt\n",
    "from sympy.plotting import plot"
   ]
  },
  {
   "cell_type": "code",
   "execution_count": 10,
   "metadata": {
    "collapsed": true
   },
   "outputs": [],
   "source": [
    "alpha=1\n",
    "\n",
    "# high alpha makes derivative zero.. no weight update possible\n",
    "\n",
    "def sigmoidFunction(x):\n",
    "    return 1/(1+np.exp(-alpha*x))\n",
    "\n",
    "def sigmoidFunction2(x):\n",
    "    return  np.tanh((alpha*x)/2)\n",
    "\n",
    "def derivationSigmoidFunction(x):\n",
    "    return alpha*sp.exp(-alpha*x)/(1 + sp.exp(-alpha*x))**2\n",
    "\n",
    "def derivationSigmoidFunction2(x):\n",
    "    return -(alpha/2)*np.tanh((alpha/2)*x)**2 + (alpha/2)\n",
    "\n",
    "\n",
    "def setWeightMatrix(MLVector):\n",
    "    weightMatrix=np.zeros((np.max(MLVector)**2, np.shape(MLVector)[0]-1))\n",
    "    for i in range(np.shape(MLVector)[0]):\n",
    "        if(i+1<np.shape(MLVector)[0]):\n",
    "            b=0;\n",
    "            for j in range(MLVector.item(i)):\n",
    "                for z in range(MLVector.item(i+1)):\n",
    "                    a=initialWeight(1)\n",
    "                    weightMatrix[b,i]= a\n",
    "                    b=b+1\n",
    "    return weightMatrix\n",
    "\n",
    "\n",
    "def initialWeight(setting):\n",
    "    if(setting==1):\n",
    "        return np.random.randint(1,5)\n",
    "    return 0\n",
    "\n",
    "def getLocalField(MLVector, weightMatrix, inputX, outputY,bias):\n",
    "    \n",
    "    if(MLVector.item(0)<np.shape(inputX)[0]):\n",
    "        print(\" input vector x to big vor NN\")\n",
    "        print(inputX)\n",
    "        return 0\n",
    "    if(MLVector.item(0)>np.shape(inputX)[0]):\n",
    "        print(\" input vector x to small vor NN\")\n",
    "        return 0\n",
    "    else:\n",
    "        \n",
    "        localField=np.zeros((np.max(MLVector), np.shape(MLVector)[0]-1))\n",
    "        \n",
    "        for i in range(MLVector.item(0)):\n",
    "            outputY[i,0]=inputX.item(i)\n",
    "       \n",
    "        \n",
    "        for i in range(1, np.shape(MLVector)[0]):\n",
    "            a=0;\n",
    "            for j in range(MLVector.item(i-1)):\n",
    "                \n",
    "                for z in range(MLVector.item(i)):\n",
    "                    localField[z,i-1]= localField[z,i-1] + ((outputY[j,i-1])* weightMatrix[a,i-1])\n",
    "                    a=a+1\n",
    "                    \n",
    "            \n",
    "            for j in range(MLVector.item(i)):\n",
    "                localField[j,i-1]= localField[j,i-1] +bias[j,i-1]\n",
    "                outputY[j,i]=sigmoidFunction2(localField[j,i-1])\n",
    "        return localField\n",
    "    \n",
    "    \n",
    "def backProp( MLVector, localField, weightMatrix, outputY, desiredOutput, learningRate):\n",
    "    \n",
    "    delta=np.zeros((np.max(MLVector), np.shape(MLVector)[0]-1))\n",
    "    a=0;\n",
    "    for i in range(MLVector.item(np.shape(MLVector)[0]-1)):            \n",
    "\n",
    "        for j in range(MLVector.item(np.shape(MLVector)[0]-2)):\n",
    "            #print(\"i\",i)\n",
    "            y=outputY[i,np.shape(MLVector)[0]-1]\n",
    "            #print(\"output:\",y)\n",
    "            delta[j,np.shape(MLVector)[0]-2]=-((alpha/2)*(1-y**2))*(desiredOutput[i]-y)\n",
    "            #Wikipedia : y-d\n",
    "            #print(\"delta matrix :\")\n",
    "            #print(delta)\n",
    "            #print(\"j\",j)\n",
    "            #print(\"input in node j\",outputY[j,np.shape(MLVector)[0]-2])\n",
    "            #print(\"delta j\",delta[i,np.shape(MLVector)[0]-2])\n",
    "            #print(\"weight vor änderung\",weightMatrix[a,np.shape(MLVector)[0]-2])\n",
    "            weightMatrix[a,np.shape(MLVector)[0]-2]=weightMatrix[a,np.shape(MLVector)[0]-2]- (learningRate*delta[i,np.shape(MLVector)[0]-2]*outputY[j,np.shape(MLVector)[0]-2])\n",
    "            #print(\"weight nach änderung\",weightMatrix[a,np.shape(MLVector)[0]-2])\n",
    "            a=a+1\n",
    "            \n",
    "    for i in reversed(range(np.shape(MLVector)[0]-2)):\n",
    "        a=0\n",
    "        pos=0\n",
    "        for j in range(MLVector.item(i)):\n",
    "            mulDeltaWeights=0;\n",
    "           \n",
    "            for y in range(MLVector.item(i+1)):\n",
    "                #print(\"delta:\",delta[y,i+1])\n",
    "                mulDeltaWeights=mulDeltaWeights+ (delta[y,i+1]* weightMatrix[a,i])\n",
    "                a=a+1\n",
    "            delta[j,i]=-((alpha/2)*(1-outputY[j,i+1]**2))*mulDeltaWeights\n",
    "\n",
    "                \n",
    "            for y in range(MLVector.item(i+1)):\n",
    "                weightMatrix[pos,i]=weightMatrix[pos,i]- (learningRate*delta[j,i]*outputY[y,i])\n",
    "                #print(\"ÄNDERUNG hidden layer\",(learningRate*delta[j,i]*outputY[y,i]))\n",
    "                pos=pos+1"
   ]
  },
  {
   "cell_type": "code",
   "execution_count": 20,
   "metadata": {
    "collapsed": false
   },
   "outputs": [
    {
     "name": "stdout",
     "output_type": "stream",
     "text": [
      "initial weight matrix:\n",
      "[[ 1.  1.]\n",
      " [ 3.  3.]\n",
      " [ 4.  0.]\n",
      " [ 1.  0.]]\n",
      "[1] -0.701168818935 [ 1.70116882] [False]\n",
      "[1] 0.194371065517 [ 0.80562893] [False]\n",
      "[-1] -0.957924759679 [ 0.04207524] [ True]\n",
      "[-1] 0.953924075382 [ 1.95392408] [False]\n",
      "[1] -0.720409021077 [ 1.72040902] [False]\n",
      "[1] 0.154833909999 [ 0.84516609] [False]\n",
      "[-1] -0.956497811072 [ 0.04350219] [ True]\n",
      "[-1] 0.953862057682 [ 1.95386206] [False]\n",
      "[1] -0.736357925121 [ 1.73635793] [False]\n",
      "[1] 0.0980080635386 [ 0.90199194] [False]\n",
      "[-1] -0.954706302056 [ 0.0452937] [ True]\n",
      "[-1] 0.953439427802 [ 1.95343943] [False]\n",
      "[1] -0.736376243438 [ 1.73637624] [False]\n",
      "[1] 0.0978909113325 [ 0.90210909] [False]\n",
      "[-1] -0.954741149029 [ 0.04525885] [ True]\n",
      "[-1] 0.953473042524 [ 1.95347304] [False]\n",
      "[1] -0.736394533596 [ 1.73639453] [False]\n",
      "[1] 0.0977739367474 [ 0.90222606] [False]\n",
      "[-1] -0.954775916865 [ 0.04522408] [ True]\n",
      "[-1] 0.953506582347 [ 1.95350658] [False]\n",
      "[1] -0.736412795679 [ 1.7364128] [False]\n",
      "[1] 0.0976571392527 [ 0.90234286] [False]\n",
      "[-1] -0.954810605859 [ 0.04518939] [ True]\n",
      "[-1] 0.953540047548 [ 1.95354005] [False]\n",
      "[1] -0.71248926803 [ 1.71248927] [False]\n",
      "[1] 0.0377771310528 [ 0.96222287] [False]\n",
      "[-1] -0.95400191176 [ 0.04599809] [ True]\n",
      "[-1] 0.951843450693 [ 1.95184345] [False]\n",
      "[1] -0.711120076673 [ 1.71112008] [False]\n",
      "[1] 0.0404512666756 [ 0.95954873] [False]\n",
      "[-1] -0.952463390213 [ 0.04753661] [ True]\n",
      "[-1] 0.950440389007 [ 1.95044039] [False]\n",
      "[1] -0.724548762752 [ 1.72454876] [False]\n",
      "[1] -0.0438775329585 [ 1.04387753] [False]\n",
      "[-1] -0.949806659592 [ 0.05019334] [ True]\n",
      "[-1] 0.949504009014 [ 1.94950401] [False]\n",
      "[1] -0.730589597076 [ 1.7305896] [False]\n",
      "[1] -0.150979924145 [ 1.15097992] [False]\n",
      "[-1] -0.946239789857 [ 0.05376021] [ True]\n",
      "[-1] 0.947612699417 [ 1.9476127] [False]\n",
      " weight matrix after training 10000 times with learning rate 0.2:\n",
      "[[ 1.08634642  0.75729407]\n",
      " [ 2.91939191  2.95973593]\n",
      " [ 3.29483441  0.        ]\n",
      " [ 1.71995227  0.        ]]\n"
     ]
    },
    {
     "data": {
      "image/png": "[encoded data removed]",
      "text/plain": [
       "<matplotlib.figure.Figure at 0x7f6faca74a58>"
      ]
     },
     "metadata": {},
     "output_type": "display_data"
    }
   ],
   "source": [
    "MLVector=np.array([[2],[2],[1]])\n",
    "learningRate=0.2\n",
    "weightMatrix=setWeightMatrix(MLVector)\n",
    "\n",
    "#weightMatrix=np.array([[ 1, 1],[ -1 , 0.9],[ -1 , 0.],[ 1 , 0.]])\n",
    "bias=np.array([[ -1, 0.1 ],[   -1  , 0 ],[   -1  , 0 ]])\n",
    "#bias=np.array([[ 0, 0 ,0,0,0],[  0, 0 ,0,0,0 ],[  0, 0 ,0,0,0 ]])\n",
    "\n",
    "print(\"initial weight matrix:\")\n",
    "print(weightMatrix)\n",
    "inputX= np.array([[-1,1],[1,-1],[-1,-1],[1,1]])\n",
    "desiredOutput= np.array([[1],[1],[-1],[-1]])\n",
    "\n",
    "error=np.zeros(( 10))\n",
    "\n",
    "j=0\n",
    "for i in range(0,10):\n",
    "\n",
    "    y=np.random.randint(0,4)\n",
    "    outputY=np.zeros((np.max(MLVector), np.shape(MLVector)[0]))\n",
    "    localField = getLocalField(MLVector, weightMatrix, inputX[y], outputY,bias)\n",
    "    #print(\"ITERATION\", i)\n",
    "    #print(\"outp: \")\n",
    "    #print(outputY)\n",
    "    #print(\"local Field: \")\n",
    "    #print(localField)\n",
    "    backProp(MLVector, localField, weightMatrix,  outputY, desiredOutput[y], learningRate)\n",
    "    #print(\"weightMatrix\")\n",
    "    #print(weightMatrix)\n",
    "    \n",
    "    for j in range(0,4):\n",
    "        outputY=np.zeros((np.max(MLVector), np.shape(MLVector)[0]))\n",
    "        localField = getLocalField(MLVector, weightMatrix, inputX[j], outputY,bias)\n",
    "        print( desiredOutput[j], outputY[0,2], abs(desiredOutput[j] - outputY[0,2]), abs(desiredOutput[j] - outputY[0,2]) < 0.1)\n",
    "        if(abs(desiredOutput[j] - outputY[0,2]) > 0.1):\n",
    "            error[i]= error[i]+1\n",
    "        \n",
    "        \n",
    "    error[i]= error[i]/4\n",
    "        \n",
    "\n",
    "print(\" weight matrix after training 10000 times with learning rate 0.2:\")\n",
    "print(weightMatrix)    \n",
    "\n",
    "plt.plot(error)\n",
    "plt.show()\n"
   ]
  },
  {
   "cell_type": "markdown",
   "metadata": {},
   "source": [
    "## 3"
   ]
  },
  {
   "cell_type": "code",
   "execution_count": 1,
   "metadata": {
    "collapsed": false
   },
   "outputs": [],
   "source": [
    "import neurolab as nl\n",
    "import numpy as np\n",
    "import matplotlib.pyplot as plt\n",
    "%matplotlib inline"
   ]
  },
  {
   "cell_type": "code",
   "execution_count": 2,
   "metadata": {
    "collapsed": true
   },
   "outputs": [],
   "source": [
    "def func1(x):\n",
    "    return 1/x\n",
    "\n",
    "def func2(x):\n",
    "    return np.log10(x)\n",
    "\n",
    "def func3(x):\n",
    "    return np.exp(-x)\n",
    "\n",
    "def func4(x):\n",
    "    return np.sin(x)"
   ]
  },
  {
   "cell_type": "code",
   "execution_count": 3,
   "metadata": {
    "collapsed": false
   },
   "outputs": [],
   "source": [
    "class mapping:\n",
    "    def __init__(self, function, range_, str_):\n",
    "        self.function = function\n",
    "        self.range_ = range_\n",
    "        self.str = str_\n",
    "        \n",
    "    def generate_set(self, size):\n",
    "        result = []\n",
    "        for i in range(size):\n",
    "            x = np.random.random() * (self.range_[1] - self.range_[0]) + self.range_[0]\n",
    "            result.append(np.array([x, self.function(x)]))\n",
    "        return np.array((result))"
   ]
  },
  {
   "cell_type": "code",
   "execution_count": 4,
   "metadata": {
    "collapsed": true
   },
   "outputs": [],
   "source": [
    "def get_error(net, test_set):\n",
    "    error = 0\n",
    "    for test in test_set:\n",
    "        error = error + abs(test[1] - net.sim(np.array([[test[0]]])))[0][0]\n",
    "    return error / np.size(test_set, 0)"
   ]
  },
  {
   "cell_type": "code",
   "execution_count": 7,
   "metadata": {
    "collapsed": false
   },
   "outputs": [
    {
     "data": {
      "image/png": "[encoded data removed]",
      "text/plain": [
       "<matplotlib.figure.Figure at 0x7f6fe0cdc8d0>"
      ]
     },
     "metadata": {},
     "output_type": "display_data"
    }
   ],
   "source": [
    "training_size = 100\n",
    "test_size = 20\n",
    "hidden_neurons = [1, 2, 3, 4, 5, 10, 20]\n",
    "\n",
    "mappings = []\n",
    "mappings.append(mapping(func1, [1,100], \"1/x\"))\n",
    "mappings.append(mapping(func2, [1,10], \"log_10(x)\"))\n",
    "mappings.append(mapping(func3, [1,10], \"exp(-x)\"))\n",
    "mappings.append(mapping(func4, [1, np.pi / 2], \"sin(x)\"))\n",
    "\n",
    "for m in mappings:\n",
    "    training_set = m.generate_set(training_size)\n",
    "    test_set = m.generate_set(test_size)\n",
    "    input = training_set[:,0].reshape(training_size, 1)\n",
    "    target = training_set[:,1].reshape(training_size, 1)\n",
    "    \n",
    "    errors = np.zeros((len(hidden_neurons), 1))\n",
    "    \n",
    "    hn_idx = 0\n",
    "    for num_hidden_neurons in hidden_neurons:\n",
    "        net = nl.net.newff([m.range_], [num_hidden_neurons,1])\n",
    "        net.train(input, target, epochs=training_size, show=0)\n",
    "        errors[hn_idx] = get_error(net, test_set)\n",
    "        hn_idx = hn_idx + 1\n",
    "    \n",
    "    _ = plt.plot(errors)\n",
    "    \n",
    "_ = plt.legend([m.str for m in mappings], loc=1)\n",
    "_ = plt.xticks(range(len(hidden_neurons)), hidden_neurons)\n",
    "_ = plt.xlabel(\"Number of hidden neurons\")\n",
    "_ = plt.ylabel(\"Error\")"
   ]
  },
  {
   "cell_type": "code",
   "execution_count": null,
   "metadata": {
    "collapsed": true
   },
   "outputs": [],
   "source": []
  }
 ],
 "metadata": {
  "kernelspec": {
   "display_name": "Python [Root]",
   "language": "python",
   "name": "Python [Root]"
  },
  "language_info": {
   "codemirror_mode": {
    "name": "ipython",
    "version": 3
   },
   "file_extension": ".py",
   "mimetype": "text/x-python",
   "name": "python",
   "nbconvert_exporter": "python",
   "pygments_lexer": "ipython3",
   "version": "3.5.2"
  }
 },
 "nbformat": 4,
 "nbformat_minor": 2
}

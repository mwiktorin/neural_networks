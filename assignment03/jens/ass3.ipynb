{
 "cells": [
  {
   "cell_type": "markdown",
   "metadata": {
    "collapsed": true
   },
   "source": [
    "# Assignment 3"
   ]
  },
  {
   "cell_type": "markdown",
   "metadata": {},
   "source": [
    "## Ex. 1:\n",
    "  \n",
    "### Delta-Rule (Widrow-Hoff-Rule)\n",
    "* Error-correction learning\n",
    "* delta of synptic weights is proportional to the product of the error signal and the input signal\n",
    "* uses learning rate parameter\n",
    "* minimization of a cost function: $\\theta(n) = \\frac{1}{2}*e_{k}^2(n)$\n",
    "* assumption error signal is directly measurable\n",
    "* that means supply of desired response\n",
    "    \n",
    "### Hebb-Rule\n",
    "* two-part rule:\n",
    "\t1. if two neurons are activated synchronously, then the strength of their connection is increased\n",
    "\t2. if two neurons are activated asynchronously, then the strength of their connection is weakend.\n",
    "* time-dependent mechanism: modification of a synapse depends on the time of occurence of the pre-  and postsynaptic signals\n",
    "* local mechanism: information bearing signals are in spatiotemporal contiguity\n",
    "* interactive mechansim: depends on interaction between pre and post synaptic signals\n",
    "* conjunctional or correlation mechanism: correlation over time between pre- and postsynaptic  signals $\\rightarrow$ synaptic change\n"
   ]
  },
  {
   "cell_type": "markdown",
   "metadata": {},
   "source": [
    "## Ex 2:"
   ]
  },
  {
   "cell_type": "code",
   "execution_count": 4,
   "metadata": {
    "collapsed": true
   },
   "outputs": [],
   "source": [
    "import numpy as np\n",
    "import sympy as sp\n",
    "sp.init_printing()"
   ]
  },
  {
   "cell_type": "code",
   "execution_count": 17,
   "metadata": {},
   "outputs": [
    {
     "data": {
      "image/png": "[encoded data removed]",
      "text/latex": [
       "$$- eps \\varphi{\\left (w_{12} x_{1} + w_{22} x_{2} + w_{32} x_{3} + w_{42} x_{4} \\right )} - eps \\varphi{\\left (w_{13} x_{1} + w_{23} x_{2} + w_{33} x_{3} + w_{43} x_{4} \\right )} + \\varphi{\\left (w_{11} x_{1} + w_{21} x_{2} + w_{31} x_{3} + w_{41} x_{4} \\right )}$$"
      ],
      "text/plain": [
       "-eps⋅varphi(w₁₂⋅x₁ + w₂₂⋅x₂ + w₃₂⋅x₃ + w₄₂⋅x₄) - eps⋅varphi(w₁₃⋅x₁ + w₂₃⋅x₂ + \n",
       "w₃₃⋅x₃ + w₄₃⋅x₄) + varphi(w₁₁⋅x₁ + w₂₁⋅x₂ + w₃₁⋅x₃ + w₄₁⋅x₄)"
      ]
     },
     "execution_count": 17,
     "metadata": {},
     "output_type": "execute_result"
    }
   ],
   "source": [
    "#input layer symbols\n",
    "x1,x2,x3,x4 = sp.symbols(\"x1,x2,x3,x4\")\n",
    "\n",
    "#output layer symbols\n",
    "\n",
    "#induced local fields\n",
    "v1,v2,v3 = sp.symbols(\"v1,v2,v3\")\n",
    "\n",
    "#weights input - neuron \n",
    "w11,w12,w13 = sp.symbols(\"w11,w12,w13\")\n",
    "w21,w22,w23 = sp.symbols(\"w21,w22,w23\")\n",
    "w31,w32,w33 = sp.symbols(\"w31,w32,w33\")\n",
    "w41,w42,w43 = sp.symbols(\"w41,w42,w43\")\n",
    "\n",
    "#weights neuron - neuron\n",
    "c12,c21,c13,c31= sp.symbols(\"c12,c21,c13,c31\")\n",
    "c23,c32= sp.symbols(\"c23,c32\")\n",
    "\n",
    "#activation function\n",
    "phi = sp.Function(\"varphi\")\n",
    "\n",
    "v1 = phi(x1*w11+x2*w21+x3*w31+x4*w41)\n",
    "v2 = phi(x1*w12+x2*w22+x3*w32+x4*w42)\n",
    "v3 = phi(x1*w13+x2*w23+x3*w33+x4*w43)\n",
    "e = sp.symbols(\"eps\")\n",
    "\n",
    "yk= v1 + (-e)*v2 + (-e)*v3\n",
    "yk"
   ]
  },
  {
   "cell_type": "markdown",
   "metadata": {},
   "source": [
    "Repeat yk until it is 0 or all other neurons are 0.\n",
    "The neuron wins if it has the largest vj."
   ]
  },
  {
   "cell_type": "markdown",
   "metadata": {},
   "source": [
    "## Ex 3:"
   ]
  },
  {
   "cell_type": "code",
   "execution_count": null,
   "metadata": {
    "collapsed": true
   },
   "outputs": [],
   "source": []
  }
 ],
 "metadata": {
  "kernelspec": {
   "display_name": "Python 3",
   "language": "python",
   "name": "python3"
  },
  "language_info": {
   "codemirror_mode": {
    "name": "ipython",
    "version": 3
   },
   "file_extension": ".py",
   "mimetype": "text/x-python",
   "name": "python",
   "nbconvert_exporter": "python",
   "pygments_lexer": "ipython3",
   "version": "3.6.2"
  }
 },
 "nbformat": 4,
 "nbformat_minor": 1
}

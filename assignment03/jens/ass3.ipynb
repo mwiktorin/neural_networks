{
 "cells": [
  {
   "cell_type": "markdown",
   "metadata": {
    "collapsed": true
   },
   "source": [
    "# Assignment 3"
   ]
  },
  {
   "cell_type": "markdown",
   "metadata": {},
   "source": [
    "## Ex. 1:\n",
    "  \n",
    "### Delta-Rule (Widrow-Hoff-Rule)\n",
    "* Error-correction learning\n",
    "* delta of synptic weights is proportional to the product of the error signal and the input signal\n",
    "* uses learning rate parameter\n",
    "* minimization of a cost function: $\\theta(n) = \\frac{1}{2}*e_{k}^2(n)$\n",
    "* assumption error signal is directly measurable\n",
    "* that means supply of desired response\n",
    "* test2\n",
    "    \n",
    "### Hebb-Rule\n",
    "* two-part rule:\n",
    "\t1. if two neurons are activated synchronously, then the strength of their connection is increased\n",
    "\t2. if two neurons are activated asynchronously, then the strength of their connection is weakend.\n",
    "* time-dependent mechanism: modification of a synapse depends on the time of occurence of the pre-  and postsynaptic signals\n",
    "* local mechanism: information bearing signals are in spatiotemporal contiguity\n",
    "* interactive mechansim: depends on interaction between pre and post synaptic signals\n",
    "* conjunctional or correlation mechanism: correlation over time between pre- and postsynaptic  signals $\\rightarrow$ synaptic change\n"
   ]
  },
  {
   "cell_type": "code",
   "execution_count": null,
   "metadata": {
    "collapsed": true
   },
   "outputs": [],
   "source": []
  }
 ],
 "metadata": {
  "kernelspec": {
   "display_name": "Python 3",
   "language": "python",
   "name": "python3"
  },
  "language_info": {
   "codemirror_mode": {
    "name": "ipython",
    "version": 3
   },
   "file_extension": ".py",
   "mimetype": "text/x-python",
   "name": "python",
   "nbconvert_exporter": "python",
   "pygments_lexer": "ipython3",
   "version": "3.6.2"
  }
 },
 "nbformat": 4,
 "nbformat_minor": 1
}

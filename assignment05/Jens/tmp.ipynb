{
 "cells": [
  {
   "cell_type": "markdown",
   "metadata": {},
   "source": [
    "## 3.4\n",
    "### Correlation matrix:\n",
    "$Rx = \n",
    "\\begin{bmatrix}\n",
    "1 & 0.5\\\\\n",
    "0.5 & 1\\\\\n",
    "\\end{bmatrix}\n",
    "$\n",
    "### Condition for the learning rate to be convergent: \n",
    "\n",
    "\n",
    "$0 < \\eta < \\frac{1}{lambda_{\\mathrm{max}}}\\\\ or \\\\0 < \\eta < \\frac{1}{trace_{\\mathrm{Rx}}}$\n",
    "\n",
    "### Calculate eigenvalues and trace:"
   ]
  },
  {
   "cell_type": "code",
   "execution_count": 2,
   "metadata": {},
   "outputs": [
    {
     "name": "stdout",
     "output_type": "stream",
     "text": [
      "e1 =  1.5 \n",
      "e2 =  0.5 \n",
      "trace =  2.0 \n",
      "\n"
     ]
    }
   ],
   "source": [
    "import numpy as np\n",
    "m = [[1, 0.5], [0.5, 1]]\n",
    "eigenv = np.linalg.eig([[1, 0.5], [0.5, 1]])\n",
    "lambda_max = max(eigenv[0])\n",
    "\n",
    "trace = np.trace(m)\n",
    "\n",
    "print(\"e1 = \", eigenv[0][0],\"\\n\"\n",
    "      \"e2 = \", eigenv[0][1],\"\\n\"\n",
    "      \"trace = \", trace,\"\\n\")\n",
    " "
   ]
  },
  {
   "cell_type": "markdown",
   "metadata": {},
   "source": [
    "\n",
    "### Result:\n",
    "Upperbound (eigenvalues): $\\frac{1}{lambda_{\\mathrm{max}}} = \\frac{1}{1.5} = \\frac{2}{3}$   \n",
    "Upperbound (trace): $\\frac{1}{lambda_{\\mathrm{max}}} = \\frac{1}{2}$  \n",
    "LMS is converging for (using eigenvalues) : $0 < \\eta < \\frac{2}{3}$  \n",
    "LMS is converging for (using trace) : $0 < \\eta < \\frac{1}{2}$ "
   ]
  },
  {
   "cell_type": "code",
   "execution_count": null,
   "metadata": {
    "collapsed": true
   },
   "outputs": [],
   "source": []
  }
 ],
 "metadata": {
  "kernelspec": {
   "display_name": "Python 3",
   "language": "python",
   "name": "python3"
  },
  "language_info": {
   "codemirror_mode": {
    "name": "ipython",
    "version": 3
   },
   "file_extension": ".py",
   "mimetype": "text/x-python",
   "name": "python",
   "nbconvert_exporter": "python",
   "pygments_lexer": "ipython3",
   "version": "3.6.2"
  }
 },
 "nbformat": 4,
 "nbformat_minor": 2
}

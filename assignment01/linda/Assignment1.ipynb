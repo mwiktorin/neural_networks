{
 "cells": [
  {
   "cell_type": "code",
   "execution_count": 3,
   "metadata": {
    "collapsed": true
   },
   "outputs": [],
   "source": [
    "import numpy as np\n",
    "import sympy as sp\n",
    "from sympy.plotting import plot\n",
    "sp.init_printing()\n"
   ]
  },
  {
   "cell_type": "markdown",
   "metadata": {},
   "source": [
    "# Assignment 1 \n",
    "\n",
    "## Models of a neuron\n",
    "\n",
    "### 1.1\n"
   ]
  },
  {
   "cell_type": "code",
   "execution_count": 4,
   "metadata": {
    "collapsed": true
   },
   "outputs": [],
   "source": [
    "a,v= sp.symbols(\"a, v\")"
   ]
  },
  {
   "cell_type": "markdown",
   "metadata": {},
   "source": [
    "$fi$ is given by:"
   ]
  },
  {
   "cell_type": "code",
   "execution_count": 5,
   "metadata": {},
   "outputs": [
    {
     "data": {
      "image/png": "[encoded data removed]",
      "text/latex": [
       "$$\\frac{1}{1 + e^{- a v}}$$"
      ],
      "text/plain": [
       "    1    \n",
       "─────────\n",
       "     -a⋅v\n",
       "1 + ℯ    "
      ]
     },
     "execution_count": 5,
     "metadata": {},
     "output_type": "execute_result"
    }
   ],
   "source": [
    "f1=1/(1+sp.exp(-a*v))\n",
    "f1"
   ]
  },
  {
   "cell_type": "markdown",
   "metadata": {},
   "source": [
    "This is the derivation of $f1$."
   ]
  },
  {
   "cell_type": "code",
   "execution_count": 6,
   "metadata": {},
   "outputs": [
    {
     "data": {
      "image/png": "[encoded data removed]",
      "text/latex": [
       "$$\\frac{a e^{a v}}{\\left(e^{a v} + 1\\right)^{2}}$$"
      ],
      "text/plain": [
       "      a⋅v  \n",
       "   a⋅ℯ     \n",
       "───────────\n",
       "          2\n",
       "⎛ a⋅v    ⎞ \n",
       "⎝ℯ    + 1⎠ "
      ]
     },
     "execution_count": 6,
     "metadata": {},
     "output_type": "execute_result"
    }
   ],
   "source": [
    "sp.simplify(sp.diff(f1,v))"
   ]
  },
  {
   "cell_type": "markdown",
   "metadata": {},
   "source": [
    "The dervation of $f1$ divided by $a\\times f1$ should be $1-f1$ :"
   ]
  },
  {
   "cell_type": "code",
   "execution_count": 9,
   "metadata": {},
   "outputs": [
    {
     "data": {
      "image/png": "[encoded data removed]",
      "text/latex": [
       "$$0$$"
      ],
      "text/plain": [
       "0"
      ]
     },
     "execution_count": 9,
     "metadata": {},
     "output_type": "execute_result"
    }
   ],
   "source": [
    "sp.simplify(((sp.diff(f1,v))/(a*f1))-(1-f1))"
   ]
  },
  {
   "cell_type": "markdown",
   "metadata": {},
   "source": [
    "We see that the derivation of $f1$ is indeed given by $a \\times f1(v) [1 - f1(v)]$."
   ]
  },
  {
   "cell_type": "markdown",
   "metadata": {},
   "source": [
    "The value of the derivation of the in the origin is :"
   ]
  },
  {
   "cell_type": "code",
   "execution_count": 8,
   "metadata": {},
   "outputs": [
    {
     "data": {
      "image/png": "[encoded data removed]",
      "text/latex": [
       "$$\\frac{a}{4}$$"
      ],
      "text/plain": [
       "a\n",
       "─\n",
       "4"
      ]
     },
     "execution_count": 8,
     "metadata": {},
     "output_type": "execute_result"
    }
   ],
   "source": [
    "sp.diff(f1, v).subs(v, 0)"
   ]
  },
  {
   "cell_type": "markdown",
   "metadata": {},
   "source": [
    "### 1.4"
   ]
  },
  {
   "cell_type": "code",
   "execution_count": 10,
   "metadata": {
    "collapsed": true
   },
   "outputs": [],
   "source": [
    "x,v= sp.symbols(\"x, v\")"
   ]
  },
  {
   "cell_type": "markdown",
   "metadata": {},
   "source": [
    "We define the funcion $f2$ given by Problem 1.4 (i) and plot it :"
   ]
  },
  {
   "cell_type": "code",
   "execution_count": 11,
   "metadata": {
    "collapsed": true
   },
   "outputs": [],
   "source": [
    "f2=(1/( sp.sqrt(2*sp.pi)))*(sp.integrate(sp.exp(-(x**2/2)),(x, sp.oo *-1, v)))"
   ]
  },
  {
   "cell_type": "code",
   "execution_count": 12,
   "metadata": {},
   "outputs": [
    {
     "data": {
      "image/png": "[encoded data removed]",
      "text/plain": [
       "<matplotlib.figure.Figure at 0x7f0566eb43c8>"
      ]
     },
     "metadata": {},
     "output_type": "display_data"
    },
    {
     "data": {
      "text/plain": [
       "<sympy.plotting.plot.Plot at 0x7f0566ef8470>"
      ]
     },
     "execution_count": 12,
     "metadata": {},
     "output_type": "execute_result"
    }
   ],
   "source": [
    "plot(f2)"
   ]
  },
  {
   "cell_type": "markdown",
   "metadata": {},
   "source": [
    "\n",
    "\n",
    "We define the funcion $f3$ given by Problem 1.4 (ii) and plot it :"
   ]
  },
  {
   "cell_type": "code",
   "execution_count": 13,
   "metadata": {
    "collapsed": true
   },
   "outputs": [],
   "source": [
    "f3=(2/sp.pi)*sp.atan(v)"
   ]
  },
  {
   "cell_type": "code",
   "execution_count": 14,
   "metadata": {},
   "outputs": [
    {
     "data": {
      "image/png": "[encoded data removed]",
      "text/plain": [
       "<matplotlib.figure.Figure at 0x7f055ede8ba8>"
      ]
     },
     "metadata": {},
     "output_type": "display_data"
    },
    {
     "data": {
      "text/plain": [
       "<sympy.plotting.plot.Plot at 0x7f0566eb4780>"
      ]
     },
     "execution_count": 14,
     "metadata": {},
     "output_type": "execute_result"
    }
   ],
   "source": [
    "plot(f3)"
   ]
  },
  {
   "cell_type": "markdown",
   "metadata": {},
   "source": [
    "We clearly see that both functions fit the requirements of a sigmoid function. Both are differantial and have a smooth transition between their minimum and their maximum value. \n",
    "\n",
    "difference: $f2$ defines a range from $0$ to $1$ and $f3$ defines a range from $-1$ to $1$.  "
   ]
  },
  {
   "cell_type": "markdown",
   "metadata": {},
   "source": [
    "## Network architectures\n",
    "\n",
    "### 1.12\n"
   ]
  },
  {
   "cell_type": "markdown",
   "metadata": {},
   "source": [
    "### 1.13 (a)"
   ]
  },
  {
   "cell_type": "markdown",
   "metadata": {},
   "source": [
    "Input of the source nodes : $x$ and $y$\n",
    "\n",
    "\n",
    "Unknown activation funktion : $phi$"
   ]
  },
  {
   "cell_type": "code",
   "execution_count": 15,
   "metadata": {},
   "outputs": [],
   "source": [
    "x,y= sp.symbols(\"x, y\")\n",
    "phi = sp.Function(\"varphi\")"
   ]
  },
  {
   "cell_type": "code",
   "execution_count": 16,
   "metadata": {},
   "outputs": [],
   "source": [
    "x1 = x * 5 + y\n",
    "y1 = -3 * y + 2 * x\n",
    "x2 = phi(x1)\n",
    "y2 = phi(y1)\n",
    "x3 = 3 * x2 - y2\n",
    "y3 = 6 * y2 + 4 * x2\n",
    "x4 = phi(x3)\n",
    "y4 = phi(y3)\n"
   ]
  },
  {
   "cell_type": "markdown",
   "metadata": {
    "collapsed": true
   },
   "source": [
    "The input-output mapping is given by this function :"
   ]
  },
  {
   "cell_type": "code",
   "execution_count": 17,
   "metadata": {},
   "outputs": [
    {
     "data": {
      "image/png": "[encoded data removed]",
      "text/latex": [
       "$$\\varphi{\\left (- 2 \\varphi{\\left (- \\varphi{\\left (2 x - 3 y \\right )} + 3 \\varphi{\\left (5 x + y \\right )} \\right )} + \\varphi{\\left (6 \\varphi{\\left (2 x - 3 y \\right )} + 4 \\varphi{\\left (5 x + y \\right )} \\right )} \\right )}$$"
      ],
      "text/plain": [
       "varphi(-2⋅varphi(-varphi(2⋅x - 3⋅y) + 3⋅varphi(5⋅x + y)) + varphi(6⋅varphi(2⋅x\n",
       " - 3⋅y) + 4⋅varphi(5⋅x + y)))"
      ]
     },
     "execution_count": 17,
     "metadata": {},
     "output_type": "execute_result"
    }
   ],
   "source": [
    "phi(-2 * x4 + y4)"
   ]
  },
  {
   "cell_type": "markdown",
   "metadata": {},
   "source": [
    "### 1.13 (b)\n"
   ]
  },
  {
   "cell_type": "markdown",
   "metadata": {},
   "source": [
    "If the output neuron operates in a linear region, it has the same impact like a weight.\n",
    "We call it $w$."
   ]
  },
  {
   "cell_type": "code",
   "execution_count": 18,
   "metadata": {
    "collapsed": true
   },
   "outputs": [],
   "source": [
    "w= sp.symbols(\"w\")"
   ]
  },
  {
   "cell_type": "markdown",
   "metadata": {},
   "source": [
    "In this case  input-output mapping is given by this function :"
   ]
  },
  {
   "cell_type": "code",
   "execution_count": 19,
   "metadata": {},
   "outputs": [
    {
     "data": {
      "image/png": "[encoded data removed]",
      "text/latex": [
       "$$w \\left(- 2 \\varphi{\\left (- \\varphi{\\left (2 x - 3 y \\right )} + 3 \\varphi{\\left (5 x + y \\right )} \\right )} + \\varphi{\\left (6 \\varphi{\\left (2 x - 3 y \\right )} + 4 \\varphi{\\left (5 x + y \\right )} \\right )}\\right)$$"
      ],
      "text/plain": [
       "w⋅(-2⋅varphi(-varphi(2⋅x - 3⋅y) + 3⋅varphi(5⋅x + y)) + varphi(6⋅varphi(2⋅x - 3\n",
       "⋅y) + 4⋅varphi(5⋅x + y)))"
      ]
     },
     "execution_count": 19,
     "metadata": {},
     "output_type": "execute_result"
    }
   ],
   "source": [
    "w*(-2* x4+y4)"
   ]
  },
  {
   "cell_type": "code",
   "execution_count": null,
   "metadata": {
    "collapsed": true
   },
   "outputs": [],
   "source": []
  }
 ],
 "metadata": {
  "kernelspec": {
   "display_name": "Python 3",
   "language": "python",
   "name": "python3"
  },
  "language_info": {
   "codemirror_mode": {
    "name": "ipython",
    "version": 3
   },
   "file_extension": ".py",
   "mimetype": "text/x-python",
   "name": "python",
   "nbconvert_exporter": "python",
   "pygments_lexer": "ipython3",
   "version": "3.6.2"
  }
 },
 "nbformat": 4,
 "nbformat_minor": 2
}

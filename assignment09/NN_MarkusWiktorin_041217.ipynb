{
 "cells": [
  {
   "cell_type": "markdown",
   "metadata": {},
   "source": [
    "# Assignment 9\n",
    "Linda Koine, Jens Weimann, Markus Wiktorin"
   ]
  },
  {
   "cell_type": "markdown",
   "metadata": {},
   "source": [
    "## 1"
   ]
  },
  {
   "cell_type": "code",
   "execution_count": 1,
   "metadata": {
    "collapsed": false
   },
   "outputs": [],
   "source": [
    "from IPython.display import Image\n",
    "#Image(\"\")"
   ]
  },
  {
   "cell_type": "markdown",
   "metadata": {},
   "source": [
    "## 2"
   ]
  },
  {
   "cell_type": "code",
   "execution_count": 82,
   "metadata": {
    "collapsed": true
   },
   "outputs": [],
   "source": [
    "import time\n",
    "import numpy as np\n",
    "import matplotlib.pyplot as plt\n",
    "%matplotlib inline"
   ]
  },
  {
   "cell_type": "code",
   "execution_count": 116,
   "metadata": {
    "collapsed": false
   },
   "outputs": [],
   "source": [
    "class SOM:\n",
    "    def __init__(self, input_dimension, map_size, distance_function, learning_rate, weights=None):\n",
    "        self.input_dimension = input_dimension\n",
    "        self.map_size = map_size\n",
    "        self.distance_function = distance_function\n",
    "        self.learning_rate = learning_rate\n",
    "        \n",
    "        if weights is None:\n",
    "            self.weights = np.random.rand(map_size, input_dimension)\n",
    "        else:\n",
    "            self.weights = weights\n",
    "            \n",
    "    def plot_weights(self):\n",
    "        plt.figure()\n",
    "        plt.axis(\"equal\")\n",
    "        x = self.weights[:,0]\n",
    "        y = self.weights[:,1]\n",
    "        plt.plot(x, y, c=\"r\")\n",
    "        plt.scatter(self.weights[:,0], self.weights[:,1], c=\"r\")\n",
    "        \n",
    "    def get_closest_weight_index(self, sample, exclude_indices=None):\n",
    "        min_idx = 0\n",
    "        while (exclude_indices != None) and (min_idx in exclude_indices):\n",
    "            min_idx = min_idx + 1\n",
    "            \n",
    "        min_distance = self.distance_function(self.weights[min_idx], sample)\n",
    "        idx = 0\n",
    "        for weight in self.weights:\n",
    "            distance = self.distance_function(weight, sample)\n",
    "            if distance < min_distance:\n",
    "                if exclude_indices == None or idx not in exclude_indices:                    \n",
    "                    min_distance = distance\n",
    "                    min_idx = idx\n",
    "            idx = idx + 1\n",
    "        return min_idx\n",
    "        \n",
    "    def train(self, sample_set, distance_treshold, epsilon):\n",
    "        changed = 100\n",
    "        while changed > epsilon:\n",
    "            changed = 0\n",
    "            for sample in sample_set:\n",
    "                min_idx = self.get_closest_weight_index(sample)\n",
    "                for i in range(len(self.weights)):\n",
    "                    distance = self.distance_function(self.weights[min_idx], self.weights[i])\n",
    "                    if i == min_idx or distance < distance_treshold:\n",
    "                        direction = sample - self.weights[i]\n",
    "                        delta = self.learning_rate * (1 / (distance + 1)) * direction\n",
    "                        self.weights[i] = self.weights[i] + delta\n",
    "                        changed = changed + np.sum(delta)\n",
    "                        \n",
    "    def fit_to_points(self, sample_set):\n",
    "        altered_weights = []\n",
    "        for sample in sample_set:\n",
    "            min_idx = self.get_closest_weight_index(sample, altered_weights)\n",
    "            self.weights[min_idx] = sample\n",
    "            altered_weights.append(min_idx)"
   ]
  },
  {
   "cell_type": "code",
   "execution_count": 68,
   "metadata": {
    "collapsed": false
   },
   "outputs": [],
   "source": [
    "def simple_distance_function(x, y):\n",
    "    return abs(x - y)"
   ]
  },
  {
   "cell_type": "code",
   "execution_count": 81,
   "metadata": {
    "collapsed": false
   },
   "outputs": [
    {
     "name": "stdout",
     "output_type": "stream",
     "text": [
      "[ 0.1505  0.4505]\n",
      "[ 0.30632  0.9    ]\n"
     ]
    }
   ],
   "source": [
    "input = [0.1, 0.2, 0.4, 0.5]\n",
    "learning_rate = 0.1\n",
    "input_dimension = 1\n",
    "nodes = 2\n",
    "epsilon = 0.01\n",
    "distance_treshold = 0\n",
    "\n",
    "weights1 = np.array([0.15, 0.45])\n",
    "weights2 = np.array([0.3, 0.9])\n",
    "\n",
    "som = SOM(input_dimension, nodes, simple_distance_function, learning_rate, weights1)\n",
    "som.train(input, distance_treshold, epsilon)\n",
    "print(som.weights)\n",
    "\n",
    "som = SOM(input_dimension, nodes, simple_distance_function, learning_rate, weights2)\n",
    "som.train(input, distance_treshold, epsilon)\n",
    "print(som.weights)"
   ]
  },
  {
   "cell_type": "markdown",
   "metadata": {},
   "source": [
    "## 3"
   ]
  },
  {
   "cell_type": "code",
   "execution_count": 29,
   "metadata": {
    "collapsed": true
   },
   "outputs": [],
   "source": [
    "def one_dim_circle_distance(p1, p2):\n",
    "    return np.linalg.norm(p1 - p2)"
   ]
  },
  {
   "cell_type": "code",
   "execution_count": 30,
   "metadata": {
    "collapsed": true
   },
   "outputs": [],
   "source": [
    "def plot_problem(samples, weights):\n",
    "    plt.figure()\n",
    "    plt.axis(\"equal\")\n",
    "    plt.plot(weights[:,0], weights[:,1], c=\"r\")\n",
    "    plt.scatter(weights[:,0], weights[:,1], c=\"orange\")\n",
    "    plt.scatter(samples[:,0], samples[:,1], c=\"g\")\n",
    "    plt.legend([\"solution\", \"weights\", \"cities\"])"
   ]
  },
  {
   "cell_type": "code",
   "execution_count": 139,
   "metadata": {
    "collapsed": false
   },
   "outputs": [],
   "source": [
    "def tsp_distance_som(weights):\n",
    "    distance = 0\n",
    "    start = weights[0]\n",
    "    last = start\n",
    "    for weight in weights[1:]:\n",
    "        distance = distance + np.linalg.norm(last - weight)\n",
    "        last = weight\n",
    "    distance = distance + np.linalg.norm(last - start)\n",
    "    return distance\n",
    "\n",
    "def tsp_distance(coords, order):\n",
    "    distance = 0\n",
    "    last = 0\n",
    "    for i in range(1, len(order)):\n",
    "        distance = distance + np.linalg.norm(coords[order[last]] - coords[order[i]])\n",
    "        last = i\n",
    "    distance = distance + np.linalg.norm(coords[order[0]] - coords[order[last]])\n",
    "    return distance"
   ]
  },
  {
   "cell_type": "code",
   "execution_count": 163,
   "metadata": {
    "collapsed": true
   },
   "outputs": [],
   "source": [
    "import itertools\n",
    "def tsp_brut_force(cities, plot=True):\n",
    "    permutations = itertools.permutations(range(len(cities)))\n",
    "    min_dist = 9999999999999999\n",
    "    for order in permutations:\n",
    "        dist = tsp_distance(cities, order)\n",
    "        if dist < min_dist:\n",
    "            min_dist = dist\n",
    "            min_order = order\n",
    "    \n",
    "    if plot:\n",
    "        plt.figure()\n",
    "        plt.axis(\"equal\")\n",
    "        x = [cities[i][0] for i in min_order]\n",
    "        y = [cities[i][1] for i in min_order]\n",
    "        x.append(cities[min_order[0]][0])\n",
    "        y.append(cities[min_order[0]][1])\n",
    "        plt.title(\"Best solution with brut force\")\n",
    "        plt.plot(x, y, c=\"r\")\n",
    "        plt.scatter(x, y, c=\"g\")\n",
    "        plt.legend([\"solution\", \"cities\"])\n",
    "        plt.show()\n",
    "    return min_order"
   ]
  },
  {
   "cell_type": "code",
   "execution_count": 175,
   "metadata": {
    "collapsed": false
   },
   "outputs": [
    {
     "data": {
      "image/png": "[encoded data removed]",
      "text/plain": [
       "<matplotlib.figure.Figure at 0x7fbec5292358>"
      ]
     },
     "metadata": {},
     "output_type": "display_data"
    },
    {
     "data": {
      "image/png": "[encoded data removed]",
      "text/plain": [
       "<matplotlib.figure.Figure at 0x7fbec5292128>"
      ]
     },
     "metadata": {},
     "output_type": "display_data"
    },
    {
     "data": {
      "image/png": "[encoded data removed]",
      "text/plain": [
       "<matplotlib.figure.Figure at 0x7fbec758abe0>"
      ]
     },
     "metadata": {},
     "output_type": "display_data"
    },
    {
     "name": "stdout",
     "output_type": "stream",
     "text": [
      "Solved in 0.06657671928405762 seconds\n",
      "Solve TSP brut force...\n"
     ]
    },
    {
     "data": {
      "image/png": "[encoded data removed]",
      "text/plain": [
       "<matplotlib.figure.Figure at 0x7fbec51f6c18>"
      ]
     },
     "metadata": {},
     "output_type": "display_data"
    },
    {
     "name": "stdout",
     "output_type": "stream",
     "text": [
      "Solved in 0.37220311164855957 seconds\n",
      "Our Distance:  1.49814418266\n",
      "Best distance:  1.49814418266\n",
      "How close to optimum:  100.0 %\n"
     ]
    }
   ],
   "source": [
    "num_cities = 5\n",
    "circle_points = 30\n",
    "learning_rate = 0.4\n",
    "input_dimension = 2\n",
    "distance_treshold = 0.3\n",
    "training_epsilon = 0.05\n",
    "\n",
    "cities = np.random.rand(num_cities, input_dimension)\n",
    "mean_x = np.mean(cities, 0)[0]\n",
    "mean_y = np.mean(cities, 0)[1]\n",
    "\n",
    "angles = np.linspace(0, 2 * np.pi, circle_points)\n",
    "x = 0.3 * np.cos(angles) + mean_x\n",
    "y = 0.3 * np.sin(angles) + mean_y\n",
    "weights = np.column_stack((x, y))\n",
    "\n",
    "start_time = time.time()\n",
    "som = SOM(input_dimension, circle_points, one_dim_circle_distance, learning_rate, weights)\n",
    "som.train(cities, distance_treshold, training_epsilon)\n",
    "plot_problem(cities, som.weights)\n",
    "som.fit_to_points(cities)\n",
    "elapsed_time = time.time() - start_time\n",
    "plot_problem(cities, som.weights)\n",
    "\n",
    "cities_in_order = []\n",
    "for weight in som.weights:\n",
    "    if weight in cities:\n",
    "        cities_in_order.append(weight)\n",
    "\n",
    "cities_in_order = np.array(cities_in_order)\n",
    "        \n",
    "plt.figure()\n",
    "plt.axis(\"equal\")\n",
    "x = cities_in_order[:,0]\n",
    "y = cities_in_order[:,1]\n",
    "x = np.append(x, cities_in_order[0,0])\n",
    "y = np.append(y, cities_in_order[0,1])\n",
    "plt.title(\"SOM solution\")\n",
    "plt.plot(x, y, c=\"r\")\n",
    "plt.scatter(x, y, c=\"g\")\n",
    "plt.legend([\"solution\", \"cities\"])\n",
    "\n",
    "plt.show()\n",
    "print(\"Solved in\", elapsed_time, \"seconds\")\n",
    "our_distance = tsp_distance_som(cities_in_order)\n",
    "\n",
    "print(\"Solve TSP brut force...\")\n",
    "start_time = time.time()\n",
    "best_order = tsp_brut_force(cities)\n",
    "elapsed_time = time.time() - start_time\n",
    "print(\"Solved in\", elapsed_time, \"seconds\")\n",
    "best_distance = tsp_distance(cities, best_order)\n",
    "\n",
    "print(\"Our Distance: \", our_distance)\n",
    "print(\"Best distance: \", best_distance)\n",
    "print(\"How close to optimum: \", best_distance / our_distance * 100, \"%\")"
   ]
  },
  {
   "cell_type": "markdown",
   "metadata": {
    "collapsed": true
   },
   "source": [
    "## 4"
   ]
  },
  {
   "cell_type": "code",
   "execution_count": null,
   "metadata": {
    "collapsed": true
   },
   "outputs": [],
   "source": []
  }
 ],
 "metadata": {
  "kernelspec": {
   "display_name": "Python [Root]",
   "language": "python",
   "name": "Python [Root]"
  },
  "language_info": {
   "codemirror_mode": {
    "name": "ipython",
    "version": 3
   },
   "file_extension": ".py",
   "mimetype": "text/x-python",
   "name": "python",
   "nbconvert_exporter": "python",
   "pygments_lexer": "ipython3",
   "version": "3.5.2"
  }
 },
 "nbformat": 4,
 "nbformat_minor": 2
}
